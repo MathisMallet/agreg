{
 "cells": [
  {
   "cell_type": "markdown",
   "id": "b547bcf8",
   "metadata": {},
   "source": [
    "# Word shuffler for Pierre's agregation"
   ]
  },
  {
   "cell_type": "code",
   "execution_count": null,
   "id": "9a39ed18",
   "metadata": {},
   "outputs": [
    {
     "name": "stdout",
     "output_type": "stream",
     "text": [
      "Requirement already satisfied: pyinstaller in c:\\users\\mathi\\repos\\agreg\\.venv\\lib\\site-packages (6.15.0)\n",
      "Requirement already satisfied: setuptools>=42.0.0 in c:\\users\\mathi\\repos\\agreg\\.venv\\lib\\site-packages (from pyinstaller) (80.9.0)\n",
      "Requirement already satisfied: altgraph in c:\\users\\mathi\\repos\\agreg\\.venv\\lib\\site-packages (from pyinstaller) (0.17.4)\n",
      "Requirement already satisfied: pefile!=2024.8.26,>=2022.5.30 in c:\\users\\mathi\\repos\\agreg\\.venv\\lib\\site-packages (from pyinstaller) (2023.2.7)\n",
      "Requirement already satisfied: pywin32-ctypes>=0.2.1 in c:\\users\\mathi\\repos\\agreg\\.venv\\lib\\site-packages (from pyinstaller) (0.2.3)\n",
      "Requirement already satisfied: pyinstaller-hooks-contrib>=2025.8 in c:\\users\\mathi\\repos\\agreg\\.venv\\lib\\site-packages (from pyinstaller) (2025.8)\n",
      "Requirement already satisfied: packaging>=22.0 in c:\\users\\mathi\\repos\\agreg\\.venv\\lib\\site-packages (from pyinstaller) (25.0)\n",
      "Note: you may need to restart the kernel to use updated packages.\n"
     ]
    },
    {
     "ename": "",
     "evalue": "",
     "output_type": "error",
     "traceback": [
      "\u001b[1;31mThe Kernel crashed while executing code in the current cell or a previous cell. \n",
      "\u001b[1;31mPlease review the code in the cell(s) to identify a possible cause of the failure. \n",
      "\u001b[1;31mClick <a href='https://aka.ms/vscodeJupyterKernelCrash'>here</a> for more info. \n",
      "\u001b[1;31mView Jupyter <a href='command:jupyter.viewOutput'>log</a> for further details."
     ]
    }
   ],
   "source": [
    "pip install pyinstaller"
   ]
  },
  {
   "cell_type": "code",
   "execution_count": 4,
   "id": "1f218470",
   "metadata": {},
   "outputs": [
    {
     "name": "stderr",
     "output_type": "stream",
     "text": [
      "c:\\Users\\mathi\\repos\\agreg\\.venv\\Lib\\site-packages\\tqdm\\auto.py:21: TqdmWarning: IProgress not found. Please update jupyter and ipywidgets. See https://ipywidgets.readthedocs.io/en/stable/user_install.html\n",
      "  from .autonotebook import tqdm as notebook_tqdm\n"
     ]
    }
   ],
   "source": [
    "import yaml\n",
    "import numpy as np\n",
    "import gradio as gr"
   ]
  },
  {
   "cell_type": "code",
   "execution_count": 5,
   "id": "7fb544b6",
   "metadata": {},
   "outputs": [
    {
     "name": "stdout",
     "output_type": "stream",
     "text": [
      "{'modes': [{'mode_1': [{'temp_1': [{'voie_1': ['personne_1', 'personne_2', 'personne_3', 'personne_4', 'personne_5', 'personne_6']}, {'voie_2': ['personne_1', 'personne_2', 'personne_3', 'personne_4', 'personne_5', 'personne_6']}, {'voie_3': ['personne_1', 'personne_2', 'personne_3', 'personne_4', 'personne_5', 'personne_6']}]}, {'temp_2': [{'voie_1': ['personne_1', 'personne_2', 'personne_3', 'personne_4', 'personne_5', 'personne_6']}, {'voie_2': ['personne_1', 'personne_2', 'personne_3', 'personne_4', 'personne_5', 'personne_6']}, {'voie_3': ['personne_1', 'personne_2', 'personne_3', 'personne_4', 'personne_5', 'personne_6']}]}, {'temp_3': [{'voie_1': ['personne_1', 'personne_2', 'personne_3', 'personne_4', 'personne_5', 'personne_6']}, {'voie_2': ['personne_1', 'personne_2', 'personne_3', 'personne_4', 'personne_5', 'personne_6']}, {'voie_3': ['personne_1', 'personne_2', 'personne_3', 'personne_4', 'personne_5', 'personne_6']}]}]}, {'mode_2': [{'temp_1': [{'voie_1': ['personne_1', 'personne_2', 'personne_3', 'personne_4', 'personne_5', 'personne_6']}, {'voie_2': ['personne_1', 'personne_2', 'personne_3', 'personne_4', 'personne_5', 'personne_6']}, {'voie_3': ['personne_1', 'personne_2', 'personne_3', 'personne_4', 'personne_5', 'personne_6']}]}, {'temp_2': [{'voie_1': ['personne_1', 'personne_2', 'personne_3', 'personne_4', 'personne_5', 'personne_6']}, {'voie_2': ['personne_1', 'personne_2', 'personne_3', 'personne_4', 'personne_5', 'personne_6']}, {'voie_3': ['personne_1', 'personne_2', 'personne_3', 'personne_4', 'personne_5', 'personne_6']}]}, {'temp_3': [{'voie_1': ['personne_1', 'personne_2', 'personne_3', 'personne_4', 'personne_5', 'personne_6']}, {'voie_2': ['personne_1', 'personne_2', 'personne_3', 'personne_4', 'personne_5', 'personne_6']}, {'voie_3': ['personne_1', 'personne_2', 'personne_3', 'personne_4', 'personne_5', 'personne_6']}]}]}, {'mode_3': [{'temp_1': [{'voie_1': ['personne_1', 'personne_2', 'personne_3', 'personne_4', 'personne_5', 'personne_6']}, {'voie_2': ['personne_1', 'personne_2', 'personne_3', 'personne_4', 'personne_5', 'personne_6']}, {'voie_3': ['personne_1', 'personne_2', 'personne_3', 'personne_4', 'personne_5', 'personne_6']}]}, {'temp_2': [{'voie_1': ['personne_1', 'personne_2', 'personne_3', 'personne_4', 'personne_5', 'personne_6']}, {'voie_2': ['personne_1', 'personne_2', 'personne_3', 'personne_4', 'personne_5', 'personne_6']}, {'voie_3': ['personne_1', 'personne_2', 'personne_3', 'personne_4', 'personne_5', 'personne_6']}]}, {'temp_3': [{'voie_1': ['personne_1', 'personne_2', 'personne_3', 'personne_4', 'personne_5', 'personne_6']}, {'voie_2': ['personne_1', 'personne_2', 'personne_3', 'personne_4', 'personne_5', 'personne_6']}, {'voie_3': ['personne_1', 'personne_2', 'personne_3', 'personne_4', 'personne_5', 'personne_6']}]}]}, {'mode_4': [{'temp_1': [{'voie_1': ['personne_1', 'personne_2', 'personne_3', 'personne_4', 'personne_5', 'personne_6']}, {'voie_2': ['personne_1', 'personne_2', 'personne_3', 'personne_4', 'personne_5', 'personne_6']}, {'voie_3': ['personne_1', 'personne_2', 'personne_3', 'personne_4', 'personne_5', 'personne_6']}]}, {'temp_2': [{'voie_1': ['personne_1', 'personne_2', 'personne_3', 'personne_4', 'personne_5', 'personne_6']}, {'voie_2': ['personne_1', 'personne_2', 'personne_3', 'personne_4', 'personne_5', 'personne_6']}, {'voie_3': ['personne_1', 'personne_2', 'personne_3', 'personne_4', 'personne_5', 'personne_6']}]}, {'temp_3': [{'voie_1': ['personne_1', 'personne_2', 'personne_3', 'personne_4', 'personne_5', 'personne_6']}, {'voie_2': ['personne_1', 'personne_2', 'personne_3', 'personne_4', 'personne_5', 'personne_6']}, {'voie_3': ['personne_1', 'personne_2', 'personne_3', 'personne_4', 'personne_5', 'personne_6']}]}]}]}\n"
     ]
    }
   ],
   "source": [
    "with open('structure.yaml', 'r') as file:\n",
    "    structure = yaml.safe_load(file)\n",
    "print(structure)"
   ]
  },
  {
   "cell_type": "code",
   "execution_count": 6,
   "id": "c4c1c90b",
   "metadata": {},
   "outputs": [
    {
     "name": "stdout",
     "output_type": "stream",
     "text": [
      "{'mode_1': [{'temp_1': [{'voie_1': ['personne_1', 'personne_2', 'personne_3', 'personne_4', 'personne_5', 'personne_6']}, {'voie_2': ['personne_1', 'personne_2', 'personne_3', 'personne_4', 'personne_5', 'personne_6']}, {'voie_3': ['personne_1', 'personne_2', 'personne_3', 'personne_4', 'personne_5', 'personne_6']}]}, {'temp_2': [{'voie_1': ['personne_1', 'personne_2', 'personne_3', 'personne_4', 'personne_5', 'personne_6']}, {'voie_2': ['personne_1', 'personne_2', 'personne_3', 'personne_4', 'personne_5', 'personne_6']}, {'voie_3': ['personne_1', 'personne_2', 'personne_3', 'personne_4', 'personne_5', 'personne_6']}]}, {'temp_3': [{'voie_1': ['personne_1', 'personne_2', 'personne_3', 'personne_4', 'personne_5', 'personne_6']}, {'voie_2': ['personne_1', 'personne_2', 'personne_3', 'personne_4', 'personne_5', 'personne_6']}, {'voie_3': ['personne_1', 'personne_2', 'personne_3', 'personne_4', 'personne_5', 'personne_6']}]}]}\n"
     ]
    }
   ],
   "source": [
    "def draft_random_1D(list_obj):\n",
    "    # print(\"len\", len(list_obj))\n",
    "    index = np.random.randint(len(list_obj))\n",
    "    # print(\"index\", index)\n",
    "    return list_obj[index]\n",
    "\n",
    "print(draft_random_1D(structure[\"modes\"]))"
   ]
  },
  {
   "cell_type": "code",
   "execution_count": 7,
   "id": "5f18b48c",
   "metadata": {},
   "outputs": [
    {
     "name": "stdout",
     "output_type": "stream",
     "text": [
      "{'mode': 'mode_1', 'temp': 'temp_1', 'voie': 'voie_2', 'personne': 'personne_3'}\n",
      "{'mode': 'mode_3', 'temp': 'temp_3', 'voie': 'voie_2', 'personne': 'personne_4'}\n",
      "{'mode': 'mode_3', 'temp': 'temp_1', 'voie': 'voie_1', 'personne': 'personne_4'}\n",
      "{'mode': 'mode_1', 'temp': 'temp_3', 'voie': 'voie_2', 'personne': 'personne_4'}\n",
      "{'mode': 'mode_4', 'temp': 'temp_2', 'voie': 'voie_2', 'personne': 'personne_3'}\n",
      "{'mode': 'mode_3', 'temp': 'temp_1', 'voie': 'voie_2', 'personne': 'personne_3'}\n",
      "{'mode': 'mode_3', 'temp': 'temp_2', 'voie': 'voie_1', 'personne': 'personne_6'}\n",
      "{'mode': 'mode_1', 'temp': 'temp_2', 'voie': 'voie_2', 'personne': 'personne_6'}\n",
      "{'mode': 'mode_4', 'temp': 'temp_2', 'voie': 'voie_2', 'personne': 'personne_4'}\n",
      "{'mode': 'mode_1', 'temp': 'temp_1', 'voie': 'voie_2', 'personne': 'personne_4'}\n",
      "{'mode': 'mode_4', 'temp': 'temp_1', 'voie': 'voie_2', 'personne': 'personne_2'}\n",
      "{'mode': 'mode_2', 'temp': 'temp_2', 'voie': 'voie_1', 'personne': 'personne_5'}\n",
      "{'mode': 'mode_2', 'temp': 'temp_3', 'voie': 'voie_2', 'personne': 'personne_2'}\n",
      "{'mode': 'mode_4', 'temp': 'temp_2', 'voie': 'voie_1', 'personne': 'personne_2'}\n",
      "{'mode': 'mode_3', 'temp': 'temp_1', 'voie': 'voie_2', 'personne': 'personne_6'}\n",
      "{'mode': 'mode_2', 'temp': 'temp_3', 'voie': 'voie_1', 'personne': 'personne_3'}\n",
      "{'mode': 'mode_1', 'temp': 'temp_1', 'voie': 'voie_2', 'personne': 'personne_4'}\n",
      "{'mode': 'mode_1', 'temp': 'temp_3', 'voie': 'voie_3', 'personne': 'personne_4'}\n",
      "{'mode': 'mode_3', 'temp': 'temp_3', 'voie': 'voie_3', 'personne': 'personne_1'}\n",
      "{'mode': 'mode_3', 'temp': 'temp_2', 'voie': 'voie_3', 'personne': 'personne_3'}\n",
      "{'mode': 'mode_2', 'temp': 'temp_1', 'voie': 'voie_3', 'personne': 'personne_2'}\n",
      "{'mode': 'mode_4', 'temp': 'temp_3', 'voie': 'voie_2', 'personne': 'personne_6'}\n",
      "{'mode': 'mode_3', 'temp': 'temp_3', 'voie': 'voie_1', 'personne': 'personne_6'}\n",
      "{'mode': 'mode_4', 'temp': 'temp_2', 'voie': 'voie_2', 'personne': 'personne_5'}\n",
      "{'mode': 'mode_1', 'temp': 'temp_1', 'voie': 'voie_1', 'personne': 'personne_5'}\n",
      "{'mode': 'mode_2', 'temp': 'temp_2', 'voie': 'voie_3', 'personne': 'personne_2'}\n",
      "{'mode': 'mode_1', 'temp': 'temp_1', 'voie': 'voie_2', 'personne': 'personne_6'}\n",
      "{'mode': 'mode_2', 'temp': 'temp_1', 'voie': 'voie_1', 'personne': 'personne_4'}\n",
      "{'mode': 'mode_4', 'temp': 'temp_1', 'voie': 'voie_2', 'personne': 'personne_2'}\n",
      "{'mode': 'mode_2', 'temp': 'temp_2', 'voie': 'voie_3', 'personne': 'personne_5'}\n",
      "{'mode': 'mode_1', 'temp': 'temp_3', 'voie': 'voie_2', 'personne': 'personne_3'}\n",
      "{'mode': 'mode_2', 'temp': 'temp_3', 'voie': 'voie_2', 'personne': 'personne_3'}\n",
      "{'mode': 'mode_2', 'temp': 'temp_3', 'voie': 'voie_3', 'personne': 'personne_4'}\n",
      "{'mode': 'mode_1', 'temp': 'temp_2', 'voie': 'voie_2', 'personne': 'personne_4'}\n",
      "{'mode': 'mode_4', 'temp': 'temp_3', 'voie': 'voie_1', 'personne': 'personne_4'}\n",
      "{'mode': 'mode_4', 'temp': 'temp_1', 'voie': 'voie_2', 'personne': 'personne_2'}\n",
      "{'mode': 'mode_2', 'temp': 'temp_3', 'voie': 'voie_1', 'personne': 'personne_2'}\n",
      "{'mode': 'mode_3', 'temp': 'temp_3', 'voie': 'voie_1', 'personne': 'personne_2'}\n",
      "{'mode': 'mode_3', 'temp': 'temp_1', 'voie': 'voie_2', 'personne': 'personne_5'}\n",
      "{'mode': 'mode_1', 'temp': 'temp_1', 'voie': 'voie_1', 'personne': 'personne_6'}\n",
      "{'mode': 'mode_1', 'temp': 'temp_3', 'voie': 'voie_1', 'personne': 'personne_4'}\n",
      "{'mode': 'mode_2', 'temp': 'temp_1', 'voie': 'voie_3', 'personne': 'personne_4'}\n",
      "{'mode': 'mode_1', 'temp': 'temp_3', 'voie': 'voie_3', 'personne': 'personne_1'}\n",
      "{'mode': 'mode_4', 'temp': 'temp_1', 'voie': 'voie_1', 'personne': 'personne_6'}\n",
      "{'mode': 'mode_1', 'temp': 'temp_3', 'voie': 'voie_1', 'personne': 'personne_2'}\n",
      "{'mode': 'mode_4', 'temp': 'temp_3', 'voie': 'voie_2', 'personne': 'personne_3'}\n",
      "{'mode': 'mode_1', 'temp': 'temp_2', 'voie': 'voie_2', 'personne': 'personne_1'}\n",
      "{'mode': 'mode_4', 'temp': 'temp_3', 'voie': 'voie_1', 'personne': 'personne_3'}\n",
      "{'mode': 'mode_4', 'temp': 'temp_2', 'voie': 'voie_1', 'personne': 'personne_1'}\n",
      "{'mode': 'mode_1', 'temp': 'temp_1', 'voie': 'voie_3', 'personne': 'personne_5'}\n",
      "{'mode': 'mode_1', 'temp': 'temp_2', 'voie': 'voie_2', 'personne': 'personne_4'}\n",
      "{'mode': 'mode_3', 'temp': 'temp_2', 'voie': 'voie_3', 'personne': 'personne_3'}\n",
      "{'mode': 'mode_4', 'temp': 'temp_3', 'voie': 'voie_2', 'personne': 'personne_2'}\n",
      "{'mode': 'mode_1', 'temp': 'temp_2', 'voie': 'voie_1', 'personne': 'personne_2'}\n",
      "{'mode': 'mode_1', 'temp': 'temp_3', 'voie': 'voie_3', 'personne': 'personne_4'}\n",
      "{'mode': 'mode_3', 'temp': 'temp_1', 'voie': 'voie_3', 'personne': 'personne_6'}\n",
      "{'mode': 'mode_1', 'temp': 'temp_1', 'voie': 'voie_3', 'personne': 'personne_4'}\n",
      "{'mode': 'mode_3', 'temp': 'temp_3', 'voie': 'voie_3', 'personne': 'personne_5'}\n",
      "{'mode': 'mode_4', 'temp': 'temp_3', 'voie': 'voie_3', 'personne': 'personne_5'}\n",
      "{'mode': 'mode_1', 'temp': 'temp_1', 'voie': 'voie_3', 'personne': 'personne_6'}\n",
      "{'mode': 'mode_1', 'temp': 'temp_1', 'voie': 'voie_1', 'personne': 'personne_4'}\n",
      "{'mode': 'mode_3', 'temp': 'temp_2', 'voie': 'voie_3', 'personne': 'personne_6'}\n",
      "{'mode': 'mode_2', 'temp': 'temp_2', 'voie': 'voie_3', 'personne': 'personne_3'}\n",
      "{'mode': 'mode_4', 'temp': 'temp_1', 'voie': 'voie_2', 'personne': 'personne_3'}\n",
      "{'mode': 'mode_2', 'temp': 'temp_3', 'voie': 'voie_1', 'personne': 'personne_5'}\n",
      "{'mode': 'mode_2', 'temp': 'temp_3', 'voie': 'voie_1', 'personne': 'personne_2'}\n",
      "{'mode': 'mode_4', 'temp': 'temp_1', 'voie': 'voie_1', 'personne': 'personne_3'}\n",
      "{'mode': 'mode_1', 'temp': 'temp_3', 'voie': 'voie_2', 'personne': 'personne_2'}\n",
      "{'mode': 'mode_4', 'temp': 'temp_2', 'voie': 'voie_3', 'personne': 'personne_3'}\n",
      "{'mode': 'mode_2', 'temp': 'temp_3', 'voie': 'voie_1', 'personne': 'personne_3'}\n",
      "{'mode': 'mode_2', 'temp': 'temp_3', 'voie': 'voie_2', 'personne': 'personne_3'}\n",
      "{'mode': 'mode_1', 'temp': 'temp_2', 'voie': 'voie_3', 'personne': 'personne_6'}\n",
      "{'mode': 'mode_1', 'temp': 'temp_1', 'voie': 'voie_2', 'personne': 'personne_6'}\n",
      "{'mode': 'mode_2', 'temp': 'temp_3', 'voie': 'voie_1', 'personne': 'personne_2'}\n",
      "{'mode': 'mode_4', 'temp': 'temp_2', 'voie': 'voie_1', 'personne': 'personne_5'}\n",
      "{'mode': 'mode_2', 'temp': 'temp_3', 'voie': 'voie_2', 'personne': 'personne_5'}\n",
      "{'mode': 'mode_2', 'temp': 'temp_3', 'voie': 'voie_2', 'personne': 'personne_6'}\n",
      "{'mode': 'mode_4', 'temp': 'temp_2', 'voie': 'voie_3', 'personne': 'personne_2'}\n",
      "{'mode': 'mode_2', 'temp': 'temp_1', 'voie': 'voie_2', 'personne': 'personne_4'}\n",
      "{'mode': 'mode_1', 'temp': 'temp_2', 'voie': 'voie_2', 'personne': 'personne_2'}\n",
      "{'mode': 'mode_3', 'temp': 'temp_3', 'voie': 'voie_2', 'personne': 'personne_6'}\n",
      "{'mode': 'mode_4', 'temp': 'temp_1', 'voie': 'voie_1', 'personne': 'personne_1'}\n",
      "{'mode': 'mode_2', 'temp': 'temp_2', 'voie': 'voie_3', 'personne': 'personne_1'}\n",
      "{'mode': 'mode_3', 'temp': 'temp_1', 'voie': 'voie_2', 'personne': 'personne_2'}\n",
      "{'mode': 'mode_1', 'temp': 'temp_3', 'voie': 'voie_3', 'personne': 'personne_4'}\n",
      "{'mode': 'mode_2', 'temp': 'temp_2', 'voie': 'voie_3', 'personne': 'personne_1'}\n",
      "{'mode': 'mode_1', 'temp': 'temp_2', 'voie': 'voie_2', 'personne': 'personne_3'}\n",
      "{'mode': 'mode_3', 'temp': 'temp_1', 'voie': 'voie_3', 'personne': 'personne_2'}\n",
      "{'mode': 'mode_3', 'temp': 'temp_3', 'voie': 'voie_2', 'personne': 'personne_5'}\n",
      "{'mode': 'mode_1', 'temp': 'temp_2', 'voie': 'voie_3', 'personne': 'personne_6'}\n",
      "{'mode': 'mode_3', 'temp': 'temp_3', 'voie': 'voie_2', 'personne': 'personne_4'}\n",
      "{'mode': 'mode_1', 'temp': 'temp_3', 'voie': 'voie_1', 'personne': 'personne_5'}\n",
      "{'mode': 'mode_2', 'temp': 'temp_2', 'voie': 'voie_2', 'personne': 'personne_2'}\n",
      "{'mode': 'mode_4', 'temp': 'temp_3', 'voie': 'voie_2', 'personne': 'personne_4'}\n",
      "{'mode': 'mode_4', 'temp': 'temp_1', 'voie': 'voie_1', 'personne': 'personne_2'}\n",
      "{'mode': 'mode_1', 'temp': 'temp_2', 'voie': 'voie_2', 'personne': 'personne_6'}\n",
      "{'mode': 'mode_2', 'temp': 'temp_2', 'voie': 'voie_2', 'personne': 'personne_5'}\n",
      "{'mode': 'mode_2', 'temp': 'temp_3', 'voie': 'voie_1', 'personne': 'personne_6'}\n",
      "{'mode': 'mode_1', 'temp': 'temp_1', 'voie': 'voie_2', 'personne': 'personne_4'}\n",
      "{'mode': 'mode_4', 'temp': 'temp_2', 'voie': 'voie_1', 'personne': 'personne_3'}\n"
     ]
    }
   ],
   "source": [
    "def draft_random(structure):\n",
    "    _ , modes = list(structure.items())[0]\n",
    "    mode = draft_random_1D(modes)\n",
    "    mode , temps = list(mode.items())[0]\n",
    "    result = {\"mode\" : mode}\n",
    "    temp = draft_random_1D(temps)\n",
    "    temp , voix = list(temp.items())[0]\n",
    "    result[\"temp\"] = temp\n",
    "    voie = draft_random_1D(voix)\n",
    "    voie , personnes = list(voie.items())[0]\n",
    "    result[\"voie\"] = voie\n",
    "    personne = draft_random_1D(personnes)\n",
    "    result[\"personne\"] = personne\n",
    "    return result\n",
    "\n",
    "for i in range (100):\n",
    "    print(draft_random(structure))"
   ]
  },
  {
   "cell_type": "code",
   "execution_count": 13,
   "id": "ad722b42",
   "metadata": {},
   "outputs": [
    {
     "name": "stdout",
     "output_type": "stream",
     "text": [
      "['verb_1', 'verb_2', 'verb_3', 'verb_4', 'verb_5']\n"
     ]
    },
    {
     "data": {
      "text/plain": [
       "'verb_5'"
      ]
     },
     "execution_count": 13,
     "metadata": {},
     "output_type": "execute_result"
    }
   ],
   "source": [
    "with open('verb.yaml', 'r') as file:\n",
    "    verbs = yaml.safe_load(file)\n",
    "print(verbs[\"verbs\"])\n",
    "draft_random_1D(verbs[\"verbs\"])"
   ]
  },
  {
   "cell_type": "code",
   "execution_count": 18,
   "id": "4ed06419",
   "metadata": {},
   "outputs": [
    {
     "name": "stdout",
     "output_type": "stream",
     "text": [
      "* Running on local URL:  http://127.0.0.1:7865\n",
      "* To create a public link, set `share=True` in `launch()`.\n"
     ]
    },
    {
     "data": {
      "text/html": [
       "<div><iframe src=\"http://127.0.0.1:7865/\" width=\"100%\" height=\"500\" allow=\"autoplay; camera; microphone; clipboard-read; clipboard-write;\" frameborder=\"0\" allowfullscreen></iframe></div>"
      ],
      "text/plain": [
       "<IPython.core.display.HTML object>"
      ]
     },
     "metadata": {},
     "output_type": "display_data"
    },
    {
     "name": "stdout",
     "output_type": "stream",
     "text": [
      "UI lancée. Cliquez sur 'Générer'.\n"
     ]
    }
   ],
   "source": [
    "import gradio as gr\n",
    "\n",
    "# Reuse existing functions and data: structure, draft_random\n",
    "\n",
    "def generate_once():\n",
    "    result = draft_random(structure)\n",
    "    verb = draft_random_1D(verbs[\"verbs\"])\n",
    "    return verb, result[\"mode\"], result[\"temp\"], result[\"voie\"], result[\"personne\"]\n",
    "\n",
    "with gr.Blocks() as demo:\n",
    "    gr.Markdown(\"## Générateur de combinaisons\")\n",
    "    with gr.Row():\n",
    "        verb = gr.Textbox(label=\"Verbe\", interactive=False)\n",
    "    with gr.Row():\n",
    "        mode = gr.Textbox(label=\"mode\", interactive=False)\n",
    "        temp = gr.Textbox(label=\"temp\", interactive=False)\n",
    "    with gr.Row():\n",
    "        voie = gr.Textbox(label=\"voie\", interactive=False)\n",
    "        personne = gr.Textbox(label=\"personne\", interactive=False)\n",
    "\n",
    "    gen_btn = gr.Button(\"Générer\")\n",
    "    gen_btn.click(fn=generate_once, outputs=[verb, mode, temp, voie, personne])\n",
    "\n",
    "    demo.load(fn=generate_once, outputs=[verb, mode, temp, voie, personne])\n",
    "\n",
    "    demo.launch()\n",
    "\n",
    "print(\"UI lancée. Cliquez sur 'Générer'.\")\n"
   ]
  },
  {
   "cell_type": "code",
   "execution_count": null,
   "id": "76e94f3d",
   "metadata": {},
   "outputs": [],
   "source": []
  }
 ],
 "metadata": {
  "kernelspec": {
   "display_name": ".venv",
   "language": "python",
   "name": "python3"
  },
  "language_info": {
   "codemirror_mode": {
    "name": "ipython",
    "version": 3
   },
   "file_extension": ".py",
   "mimetype": "text/x-python",
   "name": "python",
   "nbconvert_exporter": "python",
   "pygments_lexer": "ipython3",
   "version": "3.13.7"
  }
 },
 "nbformat": 4,
 "nbformat_minor": 5
}
