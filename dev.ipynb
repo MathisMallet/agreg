{
 "cells": [
  {
   "cell_type": "markdown",
   "id": "b547bcf8",
   "metadata": {},
   "source": [
    "# Word shuffler for Pierre's agregation"
   ]
  },
  {
   "cell_type": "code",
   "execution_count": 8,
   "id": "9a39ed18",
   "metadata": {},
   "outputs": [
    {
     "name": "stdout",
     "output_type": "stream",
     "text": [
      "Collecting numpy\n",
      "  Downloading numpy-2.3.2-cp313-cp313-win_amd64.whl.metadata (60 kB)\n",
      "Downloading numpy-2.3.2-cp313-cp313-win_amd64.whl (12.8 MB)\n",
      "   ---------------------------------------- 0.0/12.8 MB ? eta -:--:--\n",
      "   ---------- ----------------------------- 3.4/12.8 MB 37.8 MB/s eta 0:00:01\n",
      "   --------------------- ------------------ 6.8/12.8 MB 17.4 MB/s eta 0:00:01\n",
      "   ---------------------------------------  12.6/12.8 MB 21.0 MB/s eta 0:00:01\n",
      "   ---------------------------------------- 12.8/12.8 MB 20.0 MB/s  0:00:00\n",
      "Installing collected packages: numpy\n",
      "Successfully installed numpy-2.3.2\n",
      "Note: you may need to restart the kernel to use updated packages.\n"
     ]
    }
   ],
   "source": [
    "pip install numpy"
   ]
  },
  {
   "cell_type": "code",
   "execution_count": 9,
   "id": "1f218470",
   "metadata": {},
   "outputs": [],
   "source": [
    "import yaml\n",
    "import numpy as np"
   ]
  },
  {
   "cell_type": "code",
   "execution_count": 4,
   "id": "7fb544b6",
   "metadata": {},
   "outputs": [
    {
     "name": "stdout",
     "output_type": "stream",
     "text": [
      "{'modes': [{'mode_1': [{'temp_1': [{'voie_1': ['personne_1', 'personne_2', 'personne_3', 'personne_4', 'personne_5', 'personne_6']}, {'voie_2': ['personne_1', 'personne_2', 'personne_3', 'personne_4', 'personne_5', 'personne_6']}, {'voie_3': ['personne_1', 'personne_2', 'personne_3', 'personne_4', 'personne_5', 'personne_6']}]}, {'temp_2': [{'voie_1': ['personne_1', 'personne_2', 'personne_3', 'personne_4', 'personne_5', 'personne_6']}, {'voie_2': ['personne_1', 'personne_2', 'personne_3', 'personne_4', 'personne_5', 'personne_6']}, {'voie_3': ['personne_1', 'personne_2', 'personne_3', 'personne_4', 'personne_5', 'personne_6']}]}, {'temp_3': [{'voie_1': ['personne_1', 'personne_2', 'personne_3', 'personne_4', 'personne_5', 'personne_6']}, {'voie_2': ['personne_1', 'personne_2', 'personne_3', 'personne_4', 'personne_5', 'personne_6']}, {'voie_3': ['personne_1', 'personne_2', 'personne_3', 'personne_4', 'personne_5', 'personne_6']}]}]}, {'mode_2': [{'temp_1': [{'voie_1': ['personne_1', 'personne_2', 'personne_3', 'personne_4', 'personne_5', 'personne_6']}, {'voie_2': ['personne_1', 'personne_2', 'personne_3', 'personne_4', 'personne_5', 'personne_6']}, {'voie_3': ['personne_1', 'personne_2', 'personne_3', 'personne_4', 'personne_5', 'personne_6']}]}, {'temp_2': [{'voie_1': ['personne_1', 'personne_2', 'personne_3', 'personne_4', 'personne_5', 'personne_6']}, {'voie_2': ['personne_1', 'personne_2', 'personne_3', 'personne_4', 'personne_5', 'personne_6']}, {'voie_3': ['personne_1', 'personne_2', 'personne_3', 'personne_4', 'personne_5', 'personne_6']}]}, {'temp_3': [{'voie_1': ['personne_1', 'personne_2', 'personne_3', 'personne_4', 'personne_5', 'personne_6']}, {'voie_2': ['personne_1', 'personne_2', 'personne_3', 'personne_4', 'personne_5', 'personne_6']}, {'voie_3': ['personne_1', 'personne_2', 'personne_3', 'personne_4', 'personne_5', 'personne_6']}]}]}, {'mode_3': [{'temp_1': [{'voie_1': ['personne_1', 'personne_2', 'personne_3', 'personne_4', 'personne_5', 'personne_6']}, {'voie_2': ['personne_1', 'personne_2', 'personne_3', 'personne_4', 'personne_5', 'personne_6']}, {'voie_3': ['personne_1', 'personne_2', 'personne_3', 'personne_4', 'personne_5', 'personne_6']}]}, {'temp_2': [{'voie_1': ['personne_1', 'personne_2', 'personne_3', 'personne_4', 'personne_5', 'personne_6']}, {'voie_2': ['personne_1', 'personne_2', 'personne_3', 'personne_4', 'personne_5', 'personne_6']}, {'voie_3': ['personne_1', 'personne_2', 'personne_3', 'personne_4', 'personne_5', 'personne_6']}]}, {'temp_3': [{'voie_1': ['personne_1', 'personne_2', 'personne_3', 'personne_4', 'personne_5', 'personne_6']}, {'voie_2': ['personne_1', 'personne_2', 'personne_3', 'personne_4', 'personne_5', 'personne_6']}, {'voie_3': ['personne_1', 'personne_2', 'personne_3', 'personne_4', 'personne_5', 'personne_6']}]}]}, {'mode_4': [{'temp_1': [{'voie_1': ['personne_1', 'personne_2', 'personne_3', 'personne_4', 'personne_5', 'personne_6']}, {'voie_2': ['personne_1', 'personne_2', 'personne_3', 'personne_4', 'personne_5', 'personne_6']}, {'voie_3': ['personne_1', 'personne_2', 'personne_3', 'personne_4', 'personne_5', 'personne_6']}]}, {'temp_2': [{'voie_1': ['personne_1', 'personne_2', 'personne_3', 'personne_4', 'personne_5', 'personne_6']}, {'voie_2': ['personne_1', 'personne_2', 'personne_3', 'personne_4', 'personne_5', 'personne_6']}, {'voie_3': ['personne_1', 'personne_2', 'personne_3', 'personne_4', 'personne_5', 'personne_6']}]}, {'temp_3': [{'voie_1': ['personne_1', 'personne_2', 'personne_3', 'personne_4', 'personne_5', 'personne_6']}, {'voie_2': ['personne_1', 'personne_2', 'personne_3', 'personne_4', 'personne_5', 'personne_6']}, {'voie_3': ['personne_1', 'personne_2', 'personne_3', 'personne_4', 'personne_5', 'personne_6']}]}]}]}\n"
     ]
    }
   ],
   "source": [
    "with open('structure.yaml', 'r') as file:\n",
    "    structure = yaml.safe_load(file)\n",
    "print(structure)"
   ]
  },
  {
   "cell_type": "code",
   "execution_count": 35,
   "id": "c4c1c90b",
   "metadata": {},
   "outputs": [
    {
     "name": "stdout",
     "output_type": "stream",
     "text": [
      "{'mode_4': [{'temp_1': [{'voie_1': ['personne_1', 'personne_2', 'personne_3', 'personne_4', 'personne_5', 'personne_6']}, {'voie_2': ['personne_1', 'personne_2', 'personne_3', 'personne_4', 'personne_5', 'personne_6']}, {'voie_3': ['personne_1', 'personne_2', 'personne_3', 'personne_4', 'personne_5', 'personne_6']}]}, {'temp_2': [{'voie_1': ['personne_1', 'personne_2', 'personne_3', 'personne_4', 'personne_5', 'personne_6']}, {'voie_2': ['personne_1', 'personne_2', 'personne_3', 'personne_4', 'personne_5', 'personne_6']}, {'voie_3': ['personne_1', 'personne_2', 'personne_3', 'personne_4', 'personne_5', 'personne_6']}]}, {'temp_3': [{'voie_1': ['personne_1', 'personne_2', 'personne_3', 'personne_4', 'personne_5', 'personne_6']}, {'voie_2': ['personne_1', 'personne_2', 'personne_3', 'personne_4', 'personne_5', 'personne_6']}, {'voie_3': ['personne_1', 'personne_2', 'personne_3', 'personne_4', 'personne_5', 'personne_6']}]}]}\n"
     ]
    }
   ],
   "source": [
    "def draft_random_1D(list_obj):\n",
    "    # print(\"len\", len(list_obj))\n",
    "    index = np.random.randint(len(list_obj))\n",
    "    # print(\"index\", index)\n",
    "    return list_obj[index]\n",
    "\n",
    "print(draft_random_1D(structure[\"modes\"]))"
   ]
  },
  {
   "cell_type": "code",
   "execution_count": 36,
   "id": "5f18b48c",
   "metadata": {},
   "outputs": [
    {
     "name": "stdout",
     "output_type": "stream",
     "text": [
      "{'mode': 'mode_2', 'temp': 'temp_3', 'voie': 'voie_2', 'personne': 'personne_6'}\n",
      "{'mode': 'mode_2', 'temp': 'temp_3', 'voie': 'voie_1', 'personne': 'personne_3'}\n",
      "{'mode': 'mode_1', 'temp': 'temp_1', 'voie': 'voie_3', 'personne': 'personne_6'}\n",
      "{'mode': 'mode_4', 'temp': 'temp_2', 'voie': 'voie_1', 'personne': 'personne_1'}\n",
      "{'mode': 'mode_1', 'temp': 'temp_2', 'voie': 'voie_1', 'personne': 'personne_4'}\n",
      "{'mode': 'mode_1', 'temp': 'temp_1', 'voie': 'voie_1', 'personne': 'personne_3'}\n",
      "{'mode': 'mode_4', 'temp': 'temp_3', 'voie': 'voie_2', 'personne': 'personne_6'}\n",
      "{'mode': 'mode_3', 'temp': 'temp_1', 'voie': 'voie_3', 'personne': 'personne_2'}\n",
      "{'mode': 'mode_1', 'temp': 'temp_1', 'voie': 'voie_1', 'personne': 'personne_1'}\n",
      "{'mode': 'mode_4', 'temp': 'temp_1', 'voie': 'voie_2', 'personne': 'personne_4'}\n",
      "{'mode': 'mode_1', 'temp': 'temp_2', 'voie': 'voie_2', 'personne': 'personne_2'}\n",
      "{'mode': 'mode_3', 'temp': 'temp_1', 'voie': 'voie_2', 'personne': 'personne_1'}\n",
      "{'mode': 'mode_4', 'temp': 'temp_3', 'voie': 'voie_3', 'personne': 'personne_4'}\n",
      "{'mode': 'mode_1', 'temp': 'temp_1', 'voie': 'voie_2', 'personne': 'personne_5'}\n",
      "{'mode': 'mode_2', 'temp': 'temp_1', 'voie': 'voie_3', 'personne': 'personne_5'}\n",
      "{'mode': 'mode_1', 'temp': 'temp_1', 'voie': 'voie_3', 'personne': 'personne_6'}\n",
      "{'mode': 'mode_3', 'temp': 'temp_3', 'voie': 'voie_3', 'personne': 'personne_2'}\n",
      "{'mode': 'mode_4', 'temp': 'temp_2', 'voie': 'voie_3', 'personne': 'personne_6'}\n",
      "{'mode': 'mode_4', 'temp': 'temp_1', 'voie': 'voie_3', 'personne': 'personne_5'}\n",
      "{'mode': 'mode_3', 'temp': 'temp_3', 'voie': 'voie_3', 'personne': 'personne_3'}\n",
      "{'mode': 'mode_1', 'temp': 'temp_3', 'voie': 'voie_3', 'personne': 'personne_3'}\n",
      "{'mode': 'mode_3', 'temp': 'temp_2', 'voie': 'voie_3', 'personne': 'personne_1'}\n",
      "{'mode': 'mode_4', 'temp': 'temp_3', 'voie': 'voie_2', 'personne': 'personne_3'}\n",
      "{'mode': 'mode_3', 'temp': 'temp_2', 'voie': 'voie_3', 'personne': 'personne_3'}\n",
      "{'mode': 'mode_4', 'temp': 'temp_1', 'voie': 'voie_1', 'personne': 'personne_5'}\n",
      "{'mode': 'mode_2', 'temp': 'temp_2', 'voie': 'voie_2', 'personne': 'personne_1'}\n",
      "{'mode': 'mode_4', 'temp': 'temp_2', 'voie': 'voie_3', 'personne': 'personne_2'}\n",
      "{'mode': 'mode_2', 'temp': 'temp_2', 'voie': 'voie_1', 'personne': 'personne_5'}\n",
      "{'mode': 'mode_3', 'temp': 'temp_3', 'voie': 'voie_2', 'personne': 'personne_4'}\n",
      "{'mode': 'mode_2', 'temp': 'temp_2', 'voie': 'voie_1', 'personne': 'personne_4'}\n",
      "{'mode': 'mode_1', 'temp': 'temp_3', 'voie': 'voie_2', 'personne': 'personne_3'}\n",
      "{'mode': 'mode_4', 'temp': 'temp_2', 'voie': 'voie_1', 'personne': 'personne_3'}\n",
      "{'mode': 'mode_3', 'temp': 'temp_1', 'voie': 'voie_2', 'personne': 'personne_1'}\n",
      "{'mode': 'mode_2', 'temp': 'temp_3', 'voie': 'voie_3', 'personne': 'personne_2'}\n",
      "{'mode': 'mode_4', 'temp': 'temp_3', 'voie': 'voie_2', 'personne': 'personne_2'}\n",
      "{'mode': 'mode_4', 'temp': 'temp_3', 'voie': 'voie_1', 'personne': 'personne_2'}\n",
      "{'mode': 'mode_2', 'temp': 'temp_1', 'voie': 'voie_3', 'personne': 'personne_2'}\n",
      "{'mode': 'mode_4', 'temp': 'temp_3', 'voie': 'voie_2', 'personne': 'personne_1'}\n",
      "{'mode': 'mode_1', 'temp': 'temp_3', 'voie': 'voie_1', 'personne': 'personne_3'}\n",
      "{'mode': 'mode_4', 'temp': 'temp_1', 'voie': 'voie_2', 'personne': 'personne_2'}\n",
      "{'mode': 'mode_4', 'temp': 'temp_3', 'voie': 'voie_1', 'personne': 'personne_5'}\n",
      "{'mode': 'mode_1', 'temp': 'temp_3', 'voie': 'voie_1', 'personne': 'personne_5'}\n",
      "{'mode': 'mode_3', 'temp': 'temp_3', 'voie': 'voie_3', 'personne': 'personne_5'}\n",
      "{'mode': 'mode_1', 'temp': 'temp_3', 'voie': 'voie_1', 'personne': 'personne_2'}\n",
      "{'mode': 'mode_1', 'temp': 'temp_1', 'voie': 'voie_3', 'personne': 'personne_3'}\n",
      "{'mode': 'mode_1', 'temp': 'temp_3', 'voie': 'voie_2', 'personne': 'personne_5'}\n",
      "{'mode': 'mode_1', 'temp': 'temp_3', 'voie': 'voie_1', 'personne': 'personne_2'}\n",
      "{'mode': 'mode_1', 'temp': 'temp_2', 'voie': 'voie_1', 'personne': 'personne_4'}\n",
      "{'mode': 'mode_4', 'temp': 'temp_3', 'voie': 'voie_2', 'personne': 'personne_6'}\n",
      "{'mode': 'mode_3', 'temp': 'temp_3', 'voie': 'voie_2', 'personne': 'personne_1'}\n",
      "{'mode': 'mode_4', 'temp': 'temp_3', 'voie': 'voie_1', 'personne': 'personne_3'}\n",
      "{'mode': 'mode_1', 'temp': 'temp_1', 'voie': 'voie_2', 'personne': 'personne_3'}\n",
      "{'mode': 'mode_2', 'temp': 'temp_1', 'voie': 'voie_3', 'personne': 'personne_6'}\n",
      "{'mode': 'mode_4', 'temp': 'temp_1', 'voie': 'voie_2', 'personne': 'personne_1'}\n",
      "{'mode': 'mode_1', 'temp': 'temp_2', 'voie': 'voie_2', 'personne': 'personne_6'}\n",
      "{'mode': 'mode_4', 'temp': 'temp_3', 'voie': 'voie_2', 'personne': 'personne_6'}\n",
      "{'mode': 'mode_4', 'temp': 'temp_2', 'voie': 'voie_3', 'personne': 'personne_2'}\n",
      "{'mode': 'mode_4', 'temp': 'temp_2', 'voie': 'voie_2', 'personne': 'personne_3'}\n",
      "{'mode': 'mode_3', 'temp': 'temp_3', 'voie': 'voie_3', 'personne': 'personne_3'}\n",
      "{'mode': 'mode_2', 'temp': 'temp_3', 'voie': 'voie_1', 'personne': 'personne_2'}\n",
      "{'mode': 'mode_3', 'temp': 'temp_2', 'voie': 'voie_2', 'personne': 'personne_1'}\n",
      "{'mode': 'mode_1', 'temp': 'temp_1', 'voie': 'voie_1', 'personne': 'personne_3'}\n",
      "{'mode': 'mode_1', 'temp': 'temp_1', 'voie': 'voie_2', 'personne': 'personne_6'}\n",
      "{'mode': 'mode_4', 'temp': 'temp_1', 'voie': 'voie_2', 'personne': 'personne_4'}\n",
      "{'mode': 'mode_3', 'temp': 'temp_3', 'voie': 'voie_1', 'personne': 'personne_6'}\n",
      "{'mode': 'mode_1', 'temp': 'temp_1', 'voie': 'voie_2', 'personne': 'personne_3'}\n",
      "{'mode': 'mode_2', 'temp': 'temp_2', 'voie': 'voie_3', 'personne': 'personne_5'}\n",
      "{'mode': 'mode_3', 'temp': 'temp_1', 'voie': 'voie_3', 'personne': 'personne_4'}\n",
      "{'mode': 'mode_1', 'temp': 'temp_2', 'voie': 'voie_3', 'personne': 'personne_3'}\n",
      "{'mode': 'mode_2', 'temp': 'temp_2', 'voie': 'voie_1', 'personne': 'personne_3'}\n",
      "{'mode': 'mode_4', 'temp': 'temp_1', 'voie': 'voie_2', 'personne': 'personne_5'}\n",
      "{'mode': 'mode_2', 'temp': 'temp_2', 'voie': 'voie_1', 'personne': 'personne_1'}\n",
      "{'mode': 'mode_3', 'temp': 'temp_1', 'voie': 'voie_3', 'personne': 'personne_5'}\n",
      "{'mode': 'mode_3', 'temp': 'temp_1', 'voie': 'voie_2', 'personne': 'personne_2'}\n",
      "{'mode': 'mode_1', 'temp': 'temp_1', 'voie': 'voie_2', 'personne': 'personne_4'}\n",
      "{'mode': 'mode_3', 'temp': 'temp_1', 'voie': 'voie_2', 'personne': 'personne_3'}\n",
      "{'mode': 'mode_4', 'temp': 'temp_1', 'voie': 'voie_3', 'personne': 'personne_1'}\n",
      "{'mode': 'mode_1', 'temp': 'temp_1', 'voie': 'voie_3', 'personne': 'personne_2'}\n",
      "{'mode': 'mode_4', 'temp': 'temp_2', 'voie': 'voie_2', 'personne': 'personne_1'}\n",
      "{'mode': 'mode_4', 'temp': 'temp_1', 'voie': 'voie_3', 'personne': 'personne_6'}\n",
      "{'mode': 'mode_4', 'temp': 'temp_3', 'voie': 'voie_1', 'personne': 'personne_1'}\n",
      "{'mode': 'mode_3', 'temp': 'temp_2', 'voie': 'voie_2', 'personne': 'personne_4'}\n",
      "{'mode': 'mode_4', 'temp': 'temp_3', 'voie': 'voie_1', 'personne': 'personne_6'}\n",
      "{'mode': 'mode_4', 'temp': 'temp_2', 'voie': 'voie_2', 'personne': 'personne_6'}\n",
      "{'mode': 'mode_4', 'temp': 'temp_2', 'voie': 'voie_2', 'personne': 'personne_5'}\n",
      "{'mode': 'mode_4', 'temp': 'temp_3', 'voie': 'voie_3', 'personne': 'personne_3'}\n",
      "{'mode': 'mode_3', 'temp': 'temp_3', 'voie': 'voie_1', 'personne': 'personne_5'}\n",
      "{'mode': 'mode_4', 'temp': 'temp_3', 'voie': 'voie_3', 'personne': 'personne_5'}\n",
      "{'mode': 'mode_3', 'temp': 'temp_3', 'voie': 'voie_1', 'personne': 'personne_6'}\n",
      "{'mode': 'mode_2', 'temp': 'temp_3', 'voie': 'voie_3', 'personne': 'personne_3'}\n",
      "{'mode': 'mode_1', 'temp': 'temp_2', 'voie': 'voie_3', 'personne': 'personne_1'}\n",
      "{'mode': 'mode_1', 'temp': 'temp_1', 'voie': 'voie_1', 'personne': 'personne_6'}\n",
      "{'mode': 'mode_1', 'temp': 'temp_1', 'voie': 'voie_1', 'personne': 'personne_3'}\n",
      "{'mode': 'mode_4', 'temp': 'temp_3', 'voie': 'voie_2', 'personne': 'personne_1'}\n",
      "{'mode': 'mode_2', 'temp': 'temp_2', 'voie': 'voie_2', 'personne': 'personne_5'}\n",
      "{'mode': 'mode_4', 'temp': 'temp_3', 'voie': 'voie_2', 'personne': 'personne_3'}\n",
      "{'mode': 'mode_1', 'temp': 'temp_3', 'voie': 'voie_2', 'personne': 'personne_6'}\n",
      "{'mode': 'mode_1', 'temp': 'temp_3', 'voie': 'voie_2', 'personne': 'personne_4'}\n",
      "{'mode': 'mode_1', 'temp': 'temp_1', 'voie': 'voie_1', 'personne': 'personne_4'}\n",
      "{'mode': 'mode_1', 'temp': 'temp_3', 'voie': 'voie_3', 'personne': 'personne_1'}\n"
     ]
    }
   ],
   "source": [
    "def draft_random(structure):\n",
    "    _ , modes = list(structure.items())[0]\n",
    "    mode = draft_random_1D(modes)\n",
    "    mode , temps = list(mode.items())[0]\n",
    "    result = {\"mode\" : mode}\n",
    "    temp = draft_random_1D(temps)\n",
    "    temp , voix = list(temp.items())[0]\n",
    "    result[\"temp\"] = temp\n",
    "    voie = draft_random_1D(voix)\n",
    "    voie , personnes = list(voie.items())[0]\n",
    "    result[\"voie\"] = voie\n",
    "    personne = draft_random_1D(personnes)\n",
    "    result[\"personne\"] = personne\n",
    "    return result\n",
    "\n",
    "for i in range (100):\n",
    "    print(draft_random(structure))"
   ]
  },
  {
   "cell_type": "code",
   "execution_count": null,
   "id": "76e94f3d",
   "metadata": {},
   "outputs": [],
   "source": []
  }
 ],
 "metadata": {
  "kernelspec": {
   "display_name": ".venv",
   "language": "python",
   "name": "python3"
  },
  "language_info": {
   "codemirror_mode": {
    "name": "ipython",
    "version": 3
   },
   "file_extension": ".py",
   "mimetype": "text/x-python",
   "name": "python",
   "nbconvert_exporter": "python",
   "pygments_lexer": "ipython3",
   "version": "3.13.7"
  }
 },
 "nbformat": 4,
 "nbformat_minor": 5
}
